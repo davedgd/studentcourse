{
  "nbformat": 4,
  "nbformat_minor": 0,
  "metadata": {
    "colab": {
      "provenance": [],
      "gpuType": "V100"
    },
    "kernelspec": {
      "name": "python3",
      "display_name": "Python 3"
    },
    "language_info": {
      "name": "python"
    },
    "accelerator": "GPU"
  },
  "cells": [
    {
      "cell_type": "markdown",
      "source": [
        "# Getting Started (with Google Colab)\n",
        "- In the Google Colab menu, go to File -> Open notebook\n",
        "- In the dialogue that appears, click the GitHub tab\n",
        "- Enter this repo as your GitHub URL, i.e., https://github.com/davedgd/studentcourse\n",
        "- Click the search icon (or hit enter)\n",
        "- Select the notebook you want to open to get started (e.g., studentcourse-llm.ipynb)\n",
        "- **Note:** You will also need to change the runtime type to one with a GPU...\n",
        "    - In the Google Colab menu, go to Runtime -> Change runtime type\n",
        "    - Under 'Hardware accelator' choose at least a 'T4 GPU' (or better)\n",
        "    - Click the Save button\n",
        "- To run the notebook, in the Google Colab menu, go to Runtime -> Run all\n",
        "- If you see a 'Warning: This notebook was not authored by Google' popup, click the 'Run anyway' button\n",
        "- Wait patiently, as it make take a few minutes to install the packages and run the notebook\n",
        "- **Note:** You may see occasional error messages, particularly when installing/loading pip packages -- you can generally safely ignore these (as long as the notebook runs)"
      ],
      "metadata": {
        "id": "eYHzkB3f-lhP"
      }
    },
    {
      "cell_type": "code",
      "source": [
        "!pip install sentencepiece safetensors --quiet\n",
        "!pip install https://github.com/jllllll/exllama/releases/download/0.0.18/exllama-0.0.18+cu118-cp310-cp310-linux_x86_64.whl --quiet\n",
        "\n",
        "# you may need to install git-lfs first if you run into issues (see https://git-lfs.com/)\n",
        "!git clone https://huggingface.co/TheBloke/sqlcoder-7B-GPTQ"
      ],
      "metadata": {
        "colab": {
          "base_uri": "https://localhost:8080/"
        },
        "id": "yVBcQP1xyj1P",
        "outputId": "b48a3b85-6c6e-4c95-ea25-f8f6c2e1768a"
      },
      "execution_count": 1,
      "outputs": [
        {
          "output_type": "stream",
          "name": "stdout",
          "text": [
            "\u001b[?25l     \u001b[90m━━━━━━━━━━━━━━━━━━━━━━━━━━━━━━━━━━━━━━━━\u001b[0m \u001b[32m0.0/437.3 kB\u001b[0m \u001b[31m?\u001b[0m eta \u001b[36m-:--:--\u001b[0m\r\u001b[2K     \u001b[91m━━━━━━━━━━━━━\u001b[0m\u001b[90m╺\u001b[0m\u001b[90m━━━━━━━━━━━━━━━━━━━━━━━━━━\u001b[0m \u001b[32m143.4/437.3 kB\u001b[0m \u001b[31m4.1 MB/s\u001b[0m eta \u001b[36m0:00:01\u001b[0m\r\u001b[2K     \u001b[90m━━━━━━━━━━━━━━━━━━━━━━━━━━━━━━━━━━━━━━━━\u001b[0m \u001b[32m437.3/437.3 kB\u001b[0m \u001b[31m7.5 MB/s\u001b[0m eta \u001b[36m0:00:00\u001b[0m\n",
            "\u001b[?25hfatal: destination path 'sqlcoder-7B-GPTQ' already exists and is not an empty directory.\n"
          ]
        }
      ]
    },
    {
      "cell_type": "code",
      "execution_count": 2,
      "metadata": {
        "id": "IMrwPAqzvV6c"
      },
      "outputs": [],
      "source": [
        "# From https://github.com/jllllll/exllama/blob/master/example_basic.py (with minor edits)\n",
        "\n",
        "from exllama.model import ExLlama, ExLlamaCache, ExLlamaConfig\n",
        "from exllama.tokenizer import ExLlamaTokenizer\n",
        "from exllama.generator import ExLlamaGenerator\n",
        "import os, glob\n",
        "\n",
        "# Directory containing model, tokenizer, generator\n",
        "\n",
        "model_directory =  \"./sqlcoder-7B-GPTQ\"\n",
        "\n",
        "# Locate files we need within that directory\n",
        "\n",
        "tokenizer_path = os.path.join(model_directory, \"tokenizer.model\")\n",
        "model_config_path = os.path.join(model_directory, \"config.json\")\n",
        "st_pattern = os.path.join(model_directory, \"*.safetensors\")\n",
        "model_path = glob.glob(st_pattern)[0]\n",
        "\n",
        "# Create config, model, tokenizer and generator\n",
        "\n",
        "config = ExLlamaConfig(model_config_path)               # create config from config.json\n",
        "config.model_path = model_path                          # supply path to model weights file\n",
        "#config.set_auto_map(\"12,24\")                            # adjust as needed for dual gpu (etc.)\n",
        "\n",
        "model = ExLlama(config)                                 # create ExLlama instance and load the weights\n",
        "tokenizer = ExLlamaTokenizer(tokenizer_path)            # create tokenizer from tokenizer model file\n",
        "\n",
        "cache = ExLlamaCache(model)                             # create cache for inference\n",
        "generator = ExLlamaGenerator(model, tokenizer, cache)   # create generator"
      ]
    },
    {
      "cell_type": "code",
      "source": [
        "# Configure generator\n",
        "\n",
        "generator.disallow_tokens([tokenizer.eos_token_id])\n",
        "\n",
        "generator.settings.token_repetition_penalty_max = 1.2\n",
        "generator.settings.temperature = 0.95\n",
        "generator.settings.top_p = 0.65\n",
        "generator.settings.top_k = 100\n",
        "generator.settings.typical = 0.5"
      ],
      "metadata": {
        "id": "AkdXe9E4xfX7"
      },
      "execution_count": 3,
      "outputs": []
    },
    {
      "cell_type": "code",
      "source": [
        "# Produce a simple generation\n",
        "\n",
        "question = 'How many courses are each of the students in the STUDENT table currently taking?'\n",
        "\n",
        "schema = '''\n",
        "CREATE TABLE major (\n",
        "\tmajor VARCHAR(255),\n",
        "\tschool VARCHAR(255),\n",
        "\tCONSTRAINT PK_major PRIMARY KEY (major)\n",
        "\t);\n",
        "\n",
        "CREATE TABLE student (\n",
        "\tstudentid INT,\n",
        "\tname VARCHAR(255),\n",
        "\tmajor VARCHAR(255),\n",
        "\tyear INT,\n",
        "\tCONSTRAINT PK_student PRIMARY KEY (studentid),\n",
        "\tCONSTRAINT FK_student_to_major FOREIGN KEY (major)\n",
        "\t\tREFERENCES major(major)\n",
        "\t);\n",
        "\n",
        "CREATE TABLE course (\n",
        "\tcourseid INT,\n",
        "\ttopic VARCHAR(255),\n",
        "\ttitle VARCHAR(255),\n",
        "\tCONSTRAINT PK_course PRIMARY KEY (courseid)\n",
        "\t);\n",
        "\n",
        "CREATE TABLE takes (\n",
        "\tstudentid INT,\n",
        "\tcourseid INT,\n",
        "\tdate date,\n",
        "\tCONSTRAINT PK_takes PRIMARY KEY (studentid, courseid),\n",
        "\tCONSTRAINT FK_takes_to_student FOREIGN KEY (studentid)\n",
        "\t\tREFERENCES student(studentid),\n",
        "\tCONSTRAINT FK_takes_to_course FOREIGN KEY (courseid)\n",
        "\t\tREFERENCES course(courseid)\n",
        "\t);\n",
        "\n",
        "INSERT INTO major (major, school) VALUES ('COMM', 'Commerce');\n",
        "INSERT INTO major (major, school) VALUES ('CS', 'Engineering');\n",
        "INSERT INTO major (major, school) VALUES ('SE', 'Engineering');\n",
        "\n",
        "INSERT INTO student VALUES (100, 'Lucy', 'COMM', 4);\n",
        "INSERT INTO student VALUES (140, 'Brian', 'CS', 2);\n",
        "INSERT INTO student VALUES (130, 'Lindsey', 'SE', 4);\n",
        "\n",
        "INSERT INTO course VALUES (3200, 'RDBMS', 'Intro...');\n",
        "INSERT INTO course VALUES (7450, 'Stats', 'Adv...');\n",
        "INSERT INTO course VALUES (3600, 'Big Data', 'Intro...');\n",
        "INSERT INTO course VALUES (3460, 'Finance', 'Intro...');\n",
        "INSERT INTO course VALUES (4200, 'Global', 'Adv...');\n",
        "INSERT INTO course VALUES (3100, 'Global', 'Intro...');\n",
        "\n",
        "INSERT INTO takes VALUES (100, 3200, '2016-11-01');\n",
        "INSERT INTO takes VALUES (100, 7450, '2016-11-01');\n",
        "INSERT INTO takes VALUES (100, 4200, '2016-12-01');\n",
        "INSERT INTO takes VALUES (140, 3600, '2016-12-01');\n",
        "INSERT INTO takes VALUES (140, 3460, '2016-12-01');\n",
        "INSERT INTO takes VALUES (140, 4200, '2016-01-01');\n",
        "INSERT INTO takes VALUES (130, 3100, '2016-12-01');\n",
        "INSERT INTO takes VALUES (130, 3600, '2016-12-01');\n",
        "INSERT INTO takes VALUES (130, 3200, '2016-12-01');\n",
        "\n",
        "CREATE TABLE engmajor (\n",
        "\tmajor VARCHAR(255),\n",
        "\tschool VARCHAR(255),\n",
        "\tCONSTRAINT PK_engmajor PRIMARY KEY (major)\n",
        "\t);\n",
        "\n",
        "INSERT INTO engmajor (major, school) VALUES ('CS', 'Engineering');\n",
        "INSERT INTO engmajor (major, school) VALUES ('SE', 'Engineering');\n",
        "\n",
        "CREATE TABLE students (\n",
        "\tstudentid INT,\n",
        "\tname VARCHAR(255),\n",
        "\tmajor VARCHAR(255),\n",
        "\tyear INT,\n",
        "\tCONSTRAINT PK_students PRIMARY KEY (studentid),\n",
        "\tCONSTRAINT FK_students_to_major FOREIGN KEY (major)\n",
        "\t\tREFERENCES major(major)\n",
        "\t);\n",
        "\n",
        "CREATE TABLE studentemp (\n",
        "\tstudentident INT,\n",
        "\thourlysalary INT,\n",
        "\tCONSTRAINT PK_studentemp PRIMARY KEY (studentident)\n",
        "\t);\n",
        "\n",
        "INSERT INTO studentemp VALUES (150, 12);\n",
        "INSERT INTO studentemp VALUES (130, 15);\n",
        "INSERT INTO studentemp VALUES (190, 20);\n",
        "\n",
        "CREATE TABLE morestudent (\n",
        "\tstudentid INT,\n",
        "\tname VARCHAR(255),\n",
        "\tmajor VARCHAR(255),\n",
        "\tyear INT,\n",
        "\tCONSTRAINT PK_morestudent PRIMARY KEY (studentid, major),\n",
        "\tCONSTRAINT FK_morestudent_to_major FOREIGN KEY (major)\n",
        "\t\tREFERENCES major(major)\n",
        "\t);\n",
        "\n",
        "INSERT INTO morestudent VALUES (150, 'Tim', 'COMM', 3);\n",
        "INSERT INTO morestudent VALUES (140, 'Brian', 'CS', 2);\n",
        "INSERT INTO morestudent VALUES (160, 'Will', 'COMM', 2);\n",
        "'''\n",
        "\n",
        "prompt = '''\n",
        "### Task\n",
        "Generate a SQL query to answer the following question:\n",
        "`{question}`\n",
        "\n",
        "### Database Schema\n",
        "This query will run on a database whose schema is represented in this string:\n",
        "\n",
        "`{schema}`\n",
        "\n",
        "### SQL\n",
        "Given the database schema, here is the SQL query that answers `{question}`:\n",
        "```sql\n",
        "'''.format(question = question,\n",
        "           schema = schema)\n",
        "\n",
        "output = generator.generate_simple(prompt, max_new_tokens = 200)\n",
        "\n",
        "print(output[len(prompt):])"
      ],
      "metadata": {
        "colab": {
          "base_uri": "https://localhost:8080/"
        },
        "id": "oIynUQjx2bB3",
        "outputId": "063aa996-6e9a-4db6-a873-32c2eaa92f90"
      },
      "execution_count": 4,
      "outputs": [
        {
          "output_type": "stream",
          "name": "stdout",
          "text": [
            "SELECT s.name, COUNT(t.courseid) AS course_count FROM student s JOIN takes t ON s.studentid = t.studentid GROUP BY s.name;\n",
            "```\n",
            "### Comments\n",
            "No comments for this question were provided by the reviewer.\n",
            "### Other Notes\n",
            "This query will run on a database whose schema is represented in this string:\n",
            "\n",
            "`\n",
            "CREATE TABLE major (\n",
            "\tmajor VARCHAR(255),\n",
            "\tschool VARCHAR(255),\n",
            "\tCONSTRAING PRIMARY KEY (major)\n",
            "\t);\n",
            "\n",
            "CREATE TABLE student (\n",
            "\tstudentid INT,\n",
            "\tname VARCHAR(255),\n",
            "\tmajor VARCHAR(255),\n",
            "\tyear INT,\n",
            "\tCONSTRAING PRIMARY KEY (studentid),\n",
            "\tCONSTRAING FK_student_to_major REFERENCES major(major)\n",
            "\t\n"
          ]
        }
      ]
    },
    {
      "cell_type": "code",
      "source": [],
      "metadata": {
        "id": "PlXbOvc2_A4J"
      },
      "execution_count": 4,
      "outputs": []
    }
  ]
}