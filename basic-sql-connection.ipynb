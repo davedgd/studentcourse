{
 "cells": [
  {
   "cell_type": "code",
   "execution_count": 1,
   "id": "abc41d45-95b6-44dc-95f8-62139bf0b59a",
   "metadata": {},
   "outputs": [],
   "source": [
    "# pip install mysql-connector\n",
    "\n",
    "import mysql.connector\n",
    "\n",
    "db = mysql.connector.connect(\n",
    "    database = \"studentcourse\",\n",
    "    host = \"localhost\",\n",
    "    user = \"root\",\n",
    "    passwd = \"root\"\n",
    "    )\n",
    "\n",
    "cursor = db.cursor()"
   ]
  },
  {
   "cell_type": "code",
   "execution_count": 2,
   "id": "35121238-caa3-444f-9781-5a6294421ce5",
   "metadata": {},
   "outputs": [
    {
     "data": {
      "text/plain": [
       "[(100, 'Lucy', 'COMM', 4), (130, 'Lindsey', 'SE', 4), (140, 'Brian', 'CS', 2)]"
      ]
     },
     "execution_count": 2,
     "metadata": {},
     "output_type": "execute_result"
    }
   ],
   "source": [
    "cursor.execute(\"SELECT * FROM student;\");\n",
    "cursor.fetchall()"
   ]
  }
 ],
 "metadata": {
  "kernelspec": {
   "display_name": "Python 3 (ipykernel)",
   "language": "python",
   "name": "python3"
  },
  "language_info": {
   "codemirror_mode": {
    "name": "ipython",
    "version": 3
   },
   "file_extension": ".py",
   "mimetype": "text/x-python",
   "name": "python",
   "nbconvert_exporter": "python",
   "pygments_lexer": "ipython3",
   "version": "3.10.6"
  }
 },
 "nbformat": 4,
 "nbformat_minor": 5
}
